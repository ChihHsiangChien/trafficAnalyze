{
 "cells": [
  {
   "cell_type": "code",
   "execution_count": 1,
   "metadata": {},
   "outputs": [],
   "source": [
    "import json\n",
    "\n",
    "from numpy import save\n",
    "from numpy import load\n",
    "\n",
    "import xml.etree.ElementTree as ET\n",
    "\n",
    "import pandas as pd\n"
   ]
  },
  {
   "cell_type": "code",
   "execution_count": null,
   "metadata": {},
   "outputs": [],
   "source": [
    "gantryArray = load('gantryArray5.npy')\n"
   ]
  },
  {
   "cell_type": "code",
   "execution_count": null,
   "metadata": {},
   "outputs": [],
   "source": [
    "gantryArray"
   ]
  },
  {
   "cell_type": "code",
   "execution_count": null,
   "metadata": {},
   "outputs": [],
   "source": [
    "# 讀取etags xml，存入df_etags 。用來解析龍門架的位置\n",
    "\n",
    "#從檔案載入並解析 XML 資料\n",
    "tree = ET.parse('eTag 靜態資訊/ETag.xml')\n",
    "root = tree.getroot()\n",
    "\n",
    "etags_list = []\n",
    "for idx , child in enumerate(root[3]):\n",
    "    print(idx)\n",
    "    etag = []\n",
    "    for idx_2, child_2 in enumerate(child) :\n",
    "        #print(child_2.tag)\n",
    "        #print(child_2.attrib)\n",
    "        if idx_2 == 9:\n",
    "            for child_3 in child_2:\n",
    "                print(child_3.text)\n",
    "                etag.append(child_3.text)\n",
    "        else:\n",
    "            print(child_2.text)\n",
    "            etag.append(child_2.text)\n",
    "    etags_list.append(etag)\n",
    "    print('****')\n",
    "    \n",
    "#存入df_etags\n",
    "etag_columns = ['ETagGantryID','LinkID','LocationType','PositionLon','PositionLat',\n",
    "               'RoadID','RoadName','RoadClass','RoadDirection','Start','End','LocationMile',]\n",
    "\n",
    "df_etags = pd.DataFrame (etags_list,columns = etag_columns )  "
   ]
  },
  {
   "cell_type": "code",
   "execution_count": null,
   "metadata": {},
   "outputs": [],
   "source": [
    "df_etags"
   ]
  },
  {
   "cell_type": "code",
   "execution_count": null,
   "metadata": {},
   "outputs": [],
   "source": [
    "gantryIdList = df_etags['ETagGantryID']"
   ]
  },
  {
   "cell_type": "code",
   "execution_count": null,
   "metadata": {},
   "outputs": [],
   "source": [
    "gantryIdList"
   ]
  },
  {
   "cell_type": "code",
   "execution_count": null,
   "metadata": {},
   "outputs": [],
   "source": [
    "len(gantryArray)"
   ]
  },
  {
   "cell_type": "code",
   "execution_count": null,
   "metadata": {},
   "outputs": [],
   "source": [
    "len(gantryIdList)"
   ]
  },
  {
   "cell_type": "markdown",
   "metadata": {},
   "source": [
    "{source:1, target:0, value:1},\n",
    "    {source:2, target:0, value:8},\n",
    "    {source:3, target:0, value:10},\n",
    "    {source:3, target:2, value:6},\n",
    "    {source:4, target:0, value:1},\n",
    "    {source:5, target:0, value:1},"
   ]
  },
  {
   "cell_type": "code",
   "execution_count": null,
   "metadata": {},
   "outputs": [],
   "source": [
    "links = []\n",
    "for idx1, gantryIn in enumerate(gantryArray):\n",
    "    for idx2, value in enumerate(gantryIn):\n",
    "        if value != 0 :\n",
    "            source = gantryIdList[idx1]\n",
    "            target = gantryIdList[idx2]\n",
    "            #print(source, target, value)\n",
    "            dict = {'source':source, 'target':target, 'value':value}\n",
    "            links.append(dict)\n",
    "len(links)\n",
    "            "
   ]
  },
  {
   "cell_type": "code",
   "execution_count": null,
   "metadata": {},
   "outputs": [],
   "source": [
    "print(links)"
   ]
  },
  {
   "cell_type": "markdown",
   "metadata": {},
   "source": [
    "    {nodeName:\"Child 2\", group:10},\n",
    "    {nodeName:\"Brujon\", group:4},\n",
    "    {nodeName:\"Mme. Hucheloup\", group:8}"
   ]
  },
  {
   "cell_type": "code",
   "execution_count": null,
   "metadata": {},
   "outputs": [],
   "source": [
    "df_etagWithCity = pd.read_csv('etagWithCity.csv')\n"
   ]
  },
  {
   "cell_type": "code",
   "execution_count": null,
   "metadata": {},
   "outputs": [],
   "source": [
    "df_etagWithCity.head(5)"
   ]
  },
  {
   "cell_type": "code",
   "execution_count": null,
   "metadata": {},
   "outputs": [],
   "source": [
    "#把etagWithCity轉成dict\n",
    "\n",
    "nodes = df_etagWithCity.to_dict('records')\n",
    "print(nodes)"
   ]
  },
  {
   "cell_type": "code",
   "execution_count": null,
   "metadata": {},
   "outputs": [],
   "source": [
    "gantrydict = {'nodes':nodes,'links':links}"
   ]
  },
  {
   "cell_type": "code",
   "execution_count": null,
   "metadata": {},
   "outputs": [],
   "source": [
    "gantrydict"
   ]
  },
  {
   "cell_type": "code",
   "execution_count": null,
   "metadata": {},
   "outputs": [],
   "source": [
    "#顯示\n",
    "gantryJson = json.dumps(gantrydict, indent = 4)\n",
    "\n",
    "\n",
    "#print(type(gantryJson))\n"
   ]
  },
  {
   "cell_type": "code",
   "execution_count": null,
   "metadata": {},
   "outputs": [],
   "source": [
    "with open('gantry.js', 'w', encoding='utf-8') as outfile:\n",
    "    json.dump(gantrydict, outfile ,ensure_ascii=True, indent=4)"
   ]
  },
  {
   "cell_type": "markdown",
   "metadata": {},
   "source": [
    "儲存後，文字檔內再加 var gantryList ="
   ]
  },
  {
   "cell_type": "code",
   "execution_count": null,
   "metadata": {},
   "outputs": [],
   "source": []
  }
 ],
 "metadata": {
  "kernelspec": {
   "display_name": "Python 3",
   "language": "python",
   "name": "python3"
  },
  "language_info": {
   "codemirror_mode": {
    "name": "ipython",
    "version": 3
   },
   "file_extension": ".py",
   "mimetype": "text/x-python",
   "name": "python",
   "nbconvert_exporter": "python",
   "pygments_lexer": "ipython3",
   "version": "3.7.3"
  }
 },
 "nbformat": 4,
 "nbformat_minor": 2
}
